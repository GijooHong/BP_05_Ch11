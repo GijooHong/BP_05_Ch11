{
  "nbformat": 4,
  "nbformat_minor": 0,
  "metadata": {
    "colab": {
      "provenance": [],
      "authorship_tag": "ABX9TyMiumCI/o53Ht9RQKRnDlBi",
      "include_colab_link": true
    },
    "kernelspec": {
      "name": "python3",
      "display_name": "Python 3"
    },
    "language_info": {
      "name": "python"
    }
  },
  "cells": [
    {
      "cell_type": "markdown",
      "metadata": {
        "id": "view-in-github",
        "colab_type": "text"
      },
      "source": [
        "<a href=\"https://colab.research.google.com/github/GijooHong/BP_05_Ch11/blob/main/BP_05_EX_Ch11.ipynb\" target=\"_parent\"><img src=\"https://colab.research.google.com/assets/colab-badge.svg\" alt=\"Open In Colab\"/></a>"
      ]
    },
    {
      "cell_type": "markdown",
      "source": [
        "1. 사용자가 입력한 텍스트 파일을 열어서 파일 안에 글자가 몇 개나 있는지를 계산하는 프로그램을 작성하라."
      ],
      "metadata": {
        "id": "zxiDGtW8jT5U"
      }
    },
    {
      "cell_type": "code",
      "source": [],
      "metadata": {
        "id": "GOKb2ebulLSe"
      },
      "execution_count": null,
      "outputs": []
    },
    {
      "cell_type": "markdown",
      "source": [
        "2. 사용자로부터 파일 이름과 삭제할 문자열을 입력받는다. 파일을 열어서 사용자가 원하는 문자열을 삭제한 후에 다시 파일에 쓴다."
      ],
      "metadata": {
        "id": "DR8JaSkolLd0"
      }
    },
    {
      "cell_type": "code",
      "source": [],
      "metadata": {
        "id": "_S-zOsrulY5m"
      },
      "execution_count": null,
      "outputs": []
    },
    {
      "cell_type": "markdown",
      "source": [
        "3. 사용자가 입력하는 파일에 있는 각 문자들이 나타내는 빈도를 계산하는 프로그램을 작성하라."
      ],
      "metadata": {
        "id": "572ekgx5lZCO"
      }
    },
    {
      "cell_type": "code",
      "source": [],
      "metadata": {
        "id": "HWLuWCV2lij4"
      },
      "execution_count": null,
      "outputs": []
    },
    {
      "cell_type": "markdown",
      "source": [
        "4. 파이썬에서는 객체를 파일에 저장할 수 있다. pickle 모듈을 사용하여서 정수 12, 실수 3.14, 리스트[1,2,3,4,5]를 이진 파일 \"test.dat\"에 저장하였다가 다시 읽는 프로그램을 작성하고 테스트하라."
      ],
      "metadata": {
        "id": "U9naWrUnlisH"
      }
    },
    {
      "cell_type": "code",
      "source": [],
      "metadata": {
        "id": "1YQg8W1ml-_s"
      },
      "execution_count": null,
      "outputs": []
    },
    {
      "cell_type": "markdown",
      "source": [
        "5. 텍스트 파일 \"data.txt\"에 실수값들이 저장되어 있다고 가정하자. 한 줄에 하나의 실수만 저장되어 있다. 예를 들면 다음과 같다.\n",
        "\n",
        "23.0\n",
        "\n",
        "51.0\n",
        "\n",
        "68.5\n",
        "\n",
        "82.9\n",
        "\n",
        "103.2\n",
        "\n",
        "이 파일을 읽어서 합계와 평균을 계산한 후에 이것을 \"output.txt\"파일에 다음과 같이 저장하는 프로그램을 작성하라.\n",
        "\n",
        "합계=328.6 \n",
        "\n",
        "평균=65.72\n",
        "\n",
        "line = infile.readline()\n",
        "\n",
        "문자열을 실수로 변환하려면 float() 함수를 사용한다."
      ],
      "metadata": {
        "id": "WNSLvfU1l_IL"
      }
    },
    {
      "cell_type": "code",
      "source": [],
      "metadata": {
        "id": "hG2ZblkYnIpS"
      },
      "execution_count": null,
      "outputs": []
    },
    {
      "cell_type": "markdown",
      "source": [
        "6. tkinter를 사용하여 다음과 같은 사용자 인터페이스를 만든다. \"추가\" 버튼을 누르면 사용자가 입력한 이름과 전화 번호 리스트가 파일 \"phone_book,dat\"에 저장된다. \"파일 읽기\"를 누르면 파일 \"phone_book.dat\"에서 이름과 전화 번호를 읽어오는 프로그램을 작성하라."
      ],
      "metadata": {
        "id": "1j69-JhPnI3-"
      }
    },
    {
      "cell_type": "code",
      "source": [],
      "metadata": {
        "id": "HlfYt1ULnhdw"
      },
      "execution_count": null,
      "outputs": []
    }
  ]
}