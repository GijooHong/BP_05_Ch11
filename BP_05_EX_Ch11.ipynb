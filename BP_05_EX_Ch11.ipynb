{
  "nbformat": 4,
  "nbformat_minor": 0,
  "metadata": {
    "colab": {
      "provenance": [],
      "authorship_tag": "ABX9TyO9EtvjUiRZ49Hui5r9B9Yi",
      "include_colab_link": true
    },
    "kernelspec": {
      "name": "python3",
      "display_name": "Python 3"
    },
    "language_info": {
      "name": "python"
    }
  },
  "cells": [
    {
      "cell_type": "markdown",
      "metadata": {
        "id": "view-in-github",
        "colab_type": "text"
      },
      "source": [
        "<a href=\"https://colab.research.google.com/github/GijooHong/BP_05_Ch11/blob/main/BP_05_EX_Ch11.ipynb\" target=\"_parent\"><img src=\"https://colab.research.google.com/assets/colab-badge.svg\" alt=\"Open In Colab\"/></a>"
      ]
    },
    {
      "cell_type": "markdown",
      "source": [
        "1. 사용자가 입력한 텍스트 파일을 열어서 파일 안에 글자가 몇 개나 있는지를 계산하는 프로그램을 작성하라."
      ],
      "metadata": {
        "id": "zxiDGtW8jT5U"
      }
    },
    {
      "cell_type": "code",
      "source": [
        "filename = input(\"파일 이름을 입력하세요: \").strip() #strip()은 문자열 및 공백 제거하는 코드\n",
        "infile = open(filename, \"r\")          \n",
        "count = 0\n",
        "\n",
        "for line in infile:\n",
        "  for ch in line:\n",
        "    count += 1\n",
        "\n",
        "print(\"파일 안에는 총 \", count, \"개의 글자가 있습니다.\")\n",
        "infile.close() #파일을 닫는 코드.  "
      ],
      "metadata": {
        "id": "GOKb2ebulLSe"
      },
      "execution_count": null,
      "outputs": []
    },
    {
      "cell_type": "markdown",
      "source": [
        "2. 사용자로부터 파일 이름과 삭제할 문자열을 입력받는다. 파일을 열어서 사용자가 원하는 문자열을 삭제한 후에 다시 파일에 쓴다."
      ],
      "metadata": {
        "id": "DR8JaSkolLd0"
      }
    },
    {
      "cell_type": "code",
      "source": [
        "infilename = input(\"파일 이름을 입력하시오: \").strip() #strip()은 문자열 및 공백 제거하는 코드\n",
        "infile = open(infilename, \"r\")\n",
        "file_s = infile.read() #파일안에 있는것을 읽는 코드\n",
        "removed_s = input(\"삭제할 문자열을 입력하시오: \").strip()\n",
        "modified_s = file_s.replace(removed_s, \"\") #modified=변경하다\n",
        "\n",
        "infile.close()\n",
        "outfile = open(infilename, \"w\")\n",
        "\n",
        "print(modified_s, file = outfile, end = \"\")\n",
        "print(\"변경된 파일이 저장되었습니다.\")\n",
        "outfile.close()"
      ],
      "metadata": {
        "id": "_S-zOsrulY5m"
      },
      "execution_count": null,
      "outputs": []
    },
    {
      "cell_type": "markdown",
      "source": [
        "3. 사용자가 입력하는 파일에 있는 각 문자들이 나타내는 빈도를 계산하는 프로그램을 작성하라."
      ],
      "metadata": {
        "id": "572ekgx5lZCO"
      }
    },
    {
      "cell_type": "code",
      "source": [
        "infile = open(\"C:/Users/user/Desktop/words1.txt\", \"r\") #파일 주소 쓸때 반드시\"\"붙어야 함!!\n",
        "for line in infile:\n",
        "      ...\n",
        "def countline(line, counter):     #counter 데이터의 개수를 셀 때 아주 좋음\n",
        "  for ch in line:\n",
        "    if ch.isalpha():\n",
        "      if ch in counter:\n",
        "        counter[ch] = counter[ch]+1\n",
        "      else:\n",
        "        counter[ch] = 1\n",
        "\n",
        "fname = input(\"입력 파일 이름: \").strip() #문자열 및 공백 제거하는 코드\n",
        "infile = open(\"C:/Users/user/Desktop/words1.txt\", \"r\")\n",
        "\n",
        "my_dict = { }     #dict = dictionary(사전)\n",
        "for line in infile:\n",
        "  countline(line, my_dict)\n",
        "\n",
        "print(my_dict)\n",
        "infile.close()"
      ],
      "metadata": {
        "id": "HWLuWCV2lij4"
      },
      "execution_count": null,
      "outputs": []
    },
    {
      "cell_type": "markdown",
      "source": [
        "4. 파이썬에서는 객체를 파일에 저장할 수 있다. pickle 모듈을 사용하여서 정수 12, 실수 3.14, 리스트[1,2,3,4,5]를 이진 파일 \"test.dat\"에 저장하였다가 다시 읽는 프로그램을 작성하고 테스트하라."
      ],
      "metadata": {
        "id": "U9naWrUnlisH"
      }
    },
    {
      "cell_type": "code",
      "source": [
        "import pickle #pickle = 텍스트 상태의 데이터가 아닌 파이썬 객체 자체를 파일로 저장하는 것.\n",
        "\n",
        "outfile = open(\"test.dat\", \"wb\")\n",
        "pickle.dump(12, outfile)\n",
        "pickle.dump(3.14, outfile)\n",
        "pickle.dump([1, 2, 3, 4, 5], outfile)\n",
        "outfile.close()\n",
        "infile = open(\"test.dat\", \"rb\")\n",
        "print(pickle.load(infile))\n",
        "print(pickle.load(infile))\n",
        "print(pickle.load(infile))\n",
        "infile.close()"
      ],
      "metadata": {
        "id": "1YQg8W1ml-_s"
      },
      "execution_count": null,
      "outputs": []
    },
    {
      "cell_type": "markdown",
      "source": [
        "5. 텍스트 파일 \"data.txt\"에 실수값들이 저장되어 있다고 가정하자. 한 줄에 하나의 실수만 저장되어 있다. 예를 들면 다음과 같다.\n",
        "\n",
        "23.0\n",
        "\n",
        "51.0\n",
        "\n",
        "68.5\n",
        "\n",
        "82.9\n",
        "\n",
        "103.2\n",
        "\n",
        "이 파일을 읽어서 합계와 평균을 계산한 후에 이것을 \"output.txt\"파일에 다음과 같이 저장하는 프로그램을 작성하라.\n",
        "\n",
        "합계=328.6 \n",
        "\n",
        "평균=65.72\n",
        "\n",
        "line = infile.readline()\n",
        "\n",
        "문자열을 실수로 변환하려면 float() 함수를 사용한다."
      ],
      "metadata": {
        "id": "WNSLvfU1l_IL"
      }
    },
    {
      "cell_type": "code",
      "source": [
        "inFileName = input(\"입력 파일 이름: \")\n",
        "outFileName = input(\"출력 파일 이름: \")\n",
        "\n",
        "infile = open(\"C:/Users/user/Desktop/data.txt\", \"r\")      #data.txt 파일에 있는 수들의 합계와 평균의 계산의 결과를\n",
        "outfile = open(\"C:/Users/user/Desktop/output.txt\", \"w\")     #output.txt 파일에서 표시함\n",
        "\n",
        "total = 0.0\n",
        "count = 0\n",
        "\n",
        "line = infile.readline()\n",
        "while line != \"\" :\n",
        "  value = float(line)\n",
        "  total = total + value\n",
        "  count = count + 1\n",
        "  line = infile.readline()\n",
        "\n",
        "outfile.write(\"합계=\"+ str(total)+\"\\n\")\n",
        "\n",
        "avg = total / count       #avg = average(평균)\n",
        "outfile.write(\"평균=\"+ str(avg)+\"\\n\")\n",
        "\n",
        "infile.close()\n",
        "outfile.close()"
      ],
      "metadata": {
        "id": "hG2ZblkYnIpS"
      },
      "execution_count": null,
      "outputs": []
    },
    {
      "cell_type": "markdown",
      "source": [
        "6. tkinter를 사용하여 다음과 같은 사용자 인터페이스를 만든다. \"추가\" 버튼을 누르면 사용자가 입력한 이름과 전화 번호 리스트가 파일 \"phone_book,dat\"에 저장된다. \"파일 읽기\"를 누르면 파일 \"phone_book.dat\"에서 이름과 전화 번호를 읽어오는 프로그램을 작성하라."
      ],
      "metadata": {
        "id": "1j69-JhPnI3-"
      }
    },
    {
      "cell_type": "code",
      "source": [
        "import pickle #pickle = 텍스트 상태의 데이터가 아닌 파이썬 객체 자체를 파일로 저장하는 것.\n",
        "from tkinter import *\n",
        "\n",
        "phone_book = { }\n",
        "current = 0\n",
        "name = \"\"\n",
        "phone = \"\"\n",
        "\n",
        "window = Tk()\n",
        "\n",
        "frame1 = Frame(window)    #첫번째 표시\n",
        "frame1.pack()\n",
        "Label(frame1, text = \"이름 \").grid(row = 1, column = 1, sticky = W)\n",
        "nameEntry = Entry(frame1, textvariable = name, width = 30)\n",
        "nameEntry.grid(row = 1, column = 2)\n",
        "\n",
        "frame2 = Frame(window)    #두번째 표시\n",
        "frame2.pack()\n",
        "Label(frame2, text = \"전화번호\").grid(row = 1, column = 1, sticky = W)\n",
        "phoneEntry = Entry(frame2, textvariable = phone, width = 30)\n",
        "phoneEntry.grid(row = 1, column = 2)\n",
        "\n",
        "frame3 = Frame(window)\n",
        "frame3.pack()\n",
        "\n",
        "\n",
        "def save():\n",
        "    outfile = open(\"phonebook.dat\", \"wb\")\n",
        "    pickle.dump(phone_book, outfile)\n",
        "    print(\"주소들이 파일에 저장되었습니다\")\n",
        "    outfile.close()\n",
        "\n",
        "def load():\n",
        "    infile = open(\"phonebook.dat\", \"rb\")\n",
        "    phone_book = pickle.load(infile)\n",
        "    infile.close()\n",
        "    print(\"파일에서 주소를 읽었습니다.\")\n",
        "    go_first()\n",
        "\n",
        "def add():\n",
        "    phone_book[nameEntry.get()] = phoneEntry.get()\n",
        "    print(phone_book)\n",
        "    save()\n",
        "\n",
        "def go_first():\n",
        "    global current\n",
        "    current = 0\n",
        "    ks = list(phone_book)\n",
        "    print(phone_book)\n",
        "    nameEntry.delete(0, END)\n",
        "    nameEntry.insert(0, ks[current])\n",
        "    phoneEntry.delete(0, END)\n",
        "    phoneEntry.insert(0, phone_book[ks[current]])\n",
        "\n",
        "def go_next():\n",
        "    global current\n",
        "    current += 1\n",
        "    ks = list(phone_book)\n",
        "    nameEntry.delete(0, END)\n",
        "    nameEntry.insert(0, ks[current])\n",
        "    phoneEntry.delete(0, END)\n",
        "    phoneEntry.insert(0, phone_book[ks[current]])\n",
        "\n",
        "def go_previous():\n",
        "    print(\"구현되지 않았음\")\n",
        "\n",
        "def go_last():\n",
        "    print(\"구현되지 않았음\")\n",
        "\n",
        "\n",
        "#6개의 버튼을 나타냄\n",
        "b1 = Button(frame3, text = \"추가\", command = add).grid(row = 1, column = 1)\n",
        "b2 = Button(frame3, text = \"처음\", command = go_first).grid(row = 1, column = 2)\n",
        "b3 = Button(frame3, text = \"다음\", command = go_next).grid(row = 1, column = 3)\n",
        "b4 = Button(frame3, text = \"이전\", command =go_previous).grid(row = 1, column = 4)\n",
        "b5 = Button(frame3, text = \"마지막\", command = go_last).grid(row = 1, column = 5)\n",
        "b6 = Button(frame3, text = \"파일 읽기\", command = load).grid(row = 1, column = 6)\n",
        "\n",
        "window.mainloop() "
      ],
      "metadata": {
        "id": "HlfYt1ULnhdw"
      },
      "execution_count": null,
      "outputs": []
    }
  ]
}